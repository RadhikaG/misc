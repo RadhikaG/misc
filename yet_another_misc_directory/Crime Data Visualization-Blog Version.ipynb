{
 "cells": [
  {
   "cell_type": "markdown",
   "metadata": {},
   "source": [
    "# Visualizing Crime Data"
   ]
  },
  {
   "cell_type": "markdown",
   "metadata": {},
   "source": [
    "Hi, welcome to my assignment for the Probability and Statistics course at my college. I really just took this as an excuse to learn Pandas and the IPython Notebook in all its glory. So here goes!"
   ]
  },
  {
   "cell_type": "markdown",
   "metadata": {},
   "source": [
    "# Importing required libraries"
   ]
  },
  {
   "cell_type": "code",
   "execution_count": 1,
   "metadata": {
    "collapsed": false
   },
   "outputs": [
    {
     "name": "stdout",
     "output_type": "stream",
     "text": [
      "Populating the interactive namespace from numpy and matplotlib\n"
     ]
    }
   ],
   "source": [
    "from pandas import DataFrame, read_csv\n",
    "import matplotlib.pyplot as plt\n",
    "import pandas\n",
    "import matplotlib\n",
    "\n",
    "%matplotlib inline\n",
    "%pylab inline\n",
    "\n",
    "matplotlib.style.use('ggplot')"
   ]
  },
  {
   "cell_type": "markdown",
   "metadata": {},
   "source": [
    "Matplotlib has changed quite a bit from when I first used it in 2011. The new `ggplot` style, I daresay, makes the output plots quite sexy!"
   ]
  },
  {
   "cell_type": "markdown",
   "metadata": {},
   "source": [
    "# Loading data from CSV files"
   ]
  },
  {
   "cell_type": "code",
   "execution_count": 2,
   "metadata": {
    "collapsed": true
   },
   "outputs": [],
   "source": [
    "india_women = pandas.read_csv('/home/radhika/PS/viz_project/datasets/india_women.csv')\n",
    "india_kidnap = pandas.read_csv('/home/radhika/PS/viz_project/datasets/india_kidnap.csv', parse_dates=True, index_col='YEAR')\n",
    "india_murder = pandas.read_csv('/home/radhika/PS/viz_project/datasets/india_murder.csv', parse_dates=True, index_col='YEAR')"
   ]
  },
  {
   "cell_type": "code",
   "execution_count": 3,
   "metadata": {
    "collapsed": true
   },
   "outputs": [],
   "source": [
    "us_violentcrime = pandas.read_csv('/home/radhika/PS/viz_project/datasets/us_violentcrime.csv', parse_dates=True, index_col='Year')"
   ]
  },
  {
   "cell_type": "code",
   "execution_count": 4,
   "metadata": {
    "collapsed": true
   },
   "outputs": [],
   "source": [
    "france_homicide = pandas.read_csv('/home/radhika/PS/viz_project/datasets/france_homicide.csv', parse_dates=True, index_col='Date')\n",
    "france_assault = pandas.read_csv('/home/radhika/PS/viz_project/datasets/france_assault.csv', parse_dates=True, index_col='Date')\n",
    "france_rape = pandas.read_csv('/home/radhika/PS/viz_project/datasets/france_rape.csv', parse_dates=True, index_col='Date')\n",
    "france_kidnap = pandas.read_csv('/home/radhika/PS/viz_project/datasets/france_kidnap.csv', parse_dates=True, index_col='Date')"
   ]
  },
  {
   "cell_type": "code",
   "execution_count": 5,
   "metadata": {
    "collapsed": true
   },
   "outputs": [],
   "source": [
    "neth_homicide = pandas.read_csv('/home/radhika/PS/viz_project/datasets/neth_homicide.csv', parse_dates=True, index_col='Date')\n",
    "neth_assault = pandas.read_csv('/home/radhika/PS/viz_project/datasets/neth_assault.csv', parse_dates=True, index_col='Date')\n",
    "neth_rape = pandas.read_csv('/home/radhika/PS/viz_project/datasets/neth_rape.csv', parse_dates=True, index_col='Date')\n",
    "neth_kidnap = pandas.read_csv('/home/radhika/PS/viz_project/datasets/neth_kidnap.csv', parse_dates=True, index_col='Date')"
   ]
  },
  {
   "cell_type": "markdown",
   "metadata": {},
   "source": [
    "# Cleaning up and properly formatting data from CSV files for tabular use"
   ]
  },
  {
   "cell_type": "markdown",
   "metadata": {},
   "source": [
    "Since I used data from various sources (thanks [data.gov.in](http://data.gov.in) and [Knoema](http://knoema.com)!), all of them were in different tabular formats and had to be parsed separately to be combined together. This was a bit irritating, but `pandas` made the process relatively painless.\n",
    "\n",
    "I've shown the state of the modified table at every step for the sake of clarity."
   ]
  },
  {
   "cell_type": "code",
   "execution_count": 6,
   "metadata": {
    "collapsed": false
   },
   "outputs": [
    {
     "data": {
      "text/html": [
       "<div>\n",
       "<table border=\"1\" class=\"dataframe\">\n",
       "  <thead>\n",
       "    <tr style=\"text-align: right;\">\n",
       "      <th></th>\n",
       "      <th>STATE/UT</th>\n",
       "      <th>Pupose</th>\n",
       "      <th>Total No. of cases reported</th>\n",
       "      <th>Male upto 10 years</th>\n",
       "      <th>Female upto 10 years</th>\n",
       "      <th>Male 10-15 years</th>\n",
       "      <th>Female 10-15 years</th>\n",
       "      <th>Male 15-18 years</th>\n",
       "      <th>Female 15-18 years</th>\n",
       "      <th>Male 18-30 years</th>\n",
       "      <th>Female 18-30 years</th>\n",
       "      <th>Male 30-50 years</th>\n",
       "      <th>Female 30-50 years</th>\n",
       "      <th>Male above 50 years</th>\n",
       "      <th>Female above 50 years</th>\n",
       "      <th>Total Male</th>\n",
       "      <th>Total Female</th>\n",
       "      <th>Grand Total</th>\n",
       "    </tr>\n",
       "    <tr>\n",
       "      <th>YEAR</th>\n",
       "      <th></th>\n",
       "      <th></th>\n",
       "      <th></th>\n",
       "      <th></th>\n",
       "      <th></th>\n",
       "      <th></th>\n",
       "      <th></th>\n",
       "      <th></th>\n",
       "      <th></th>\n",
       "      <th></th>\n",
       "      <th></th>\n",
       "      <th></th>\n",
       "      <th></th>\n",
       "      <th></th>\n",
       "      <th></th>\n",
       "      <th></th>\n",
       "      <th></th>\n",
       "      <th></th>\n",
       "    </tr>\n",
       "  </thead>\n",
       "  <tbody>\n",
       "    <tr>\n",
       "      <th>2001-01-01</th>\n",
       "      <td>Andhra Pradesh</td>\n",
       "      <td>For Adoption</td>\n",
       "      <td>8</td>\n",
       "      <td>3</td>\n",
       "      <td>1</td>\n",
       "      <td>0</td>\n",
       "      <td>0</td>\n",
       "      <td>0</td>\n",
       "      <td>0</td>\n",
       "      <td>0</td>\n",
       "      <td>4</td>\n",
       "      <td>0</td>\n",
       "      <td>0</td>\n",
       "      <td>0</td>\n",
       "      <td>0</td>\n",
       "      <td>3</td>\n",
       "      <td>5</td>\n",
       "      <td>8</td>\n",
       "    </tr>\n",
       "    <tr>\n",
       "      <th>2001-01-01</th>\n",
       "      <td>Andhra Pradesh</td>\n",
       "      <td>For Begging</td>\n",
       "      <td>2</td>\n",
       "      <td>0</td>\n",
       "      <td>0</td>\n",
       "      <td>2</td>\n",
       "      <td>0</td>\n",
       "      <td>0</td>\n",
       "      <td>0</td>\n",
       "      <td>0</td>\n",
       "      <td>0</td>\n",
       "      <td>0</td>\n",
       "      <td>0</td>\n",
       "      <td>0</td>\n",
       "      <td>0</td>\n",
       "      <td>2</td>\n",
       "      <td>0</td>\n",
       "      <td>2</td>\n",
       "    </tr>\n",
       "    <tr>\n",
       "      <th>2001-01-01</th>\n",
       "      <td>Andhra Pradesh</td>\n",
       "      <td>For Camel racing</td>\n",
       "      <td>0</td>\n",
       "      <td>0</td>\n",
       "      <td>0</td>\n",
       "      <td>0</td>\n",
       "      <td>0</td>\n",
       "      <td>0</td>\n",
       "      <td>0</td>\n",
       "      <td>0</td>\n",
       "      <td>0</td>\n",
       "      <td>0</td>\n",
       "      <td>0</td>\n",
       "      <td>0</td>\n",
       "      <td>0</td>\n",
       "      <td>0</td>\n",
       "      <td>0</td>\n",
       "      <td>0</td>\n",
       "    </tr>\n",
       "    <tr>\n",
       "      <th>2001-01-01</th>\n",
       "      <td>Andhra Pradesh</td>\n",
       "      <td>For Illicit intercourse</td>\n",
       "      <td>78</td>\n",
       "      <td>0</td>\n",
       "      <td>2</td>\n",
       "      <td>0</td>\n",
       "      <td>25</td>\n",
       "      <td>0</td>\n",
       "      <td>24</td>\n",
       "      <td>0</td>\n",
       "      <td>25</td>\n",
       "      <td>0</td>\n",
       "      <td>2</td>\n",
       "      <td>0</td>\n",
       "      <td>0</td>\n",
       "      <td>0</td>\n",
       "      <td>78</td>\n",
       "      <td>78</td>\n",
       "    </tr>\n",
       "    <tr>\n",
       "      <th>2001-01-01</th>\n",
       "      <td>Andhra Pradesh</td>\n",
       "      <td>For marriage</td>\n",
       "      <td>339</td>\n",
       "      <td>0</td>\n",
       "      <td>0</td>\n",
       "      <td>0</td>\n",
       "      <td>73</td>\n",
       "      <td>1</td>\n",
       "      <td>164</td>\n",
       "      <td>6</td>\n",
       "      <td>91</td>\n",
       "      <td>0</td>\n",
       "      <td>4</td>\n",
       "      <td>0</td>\n",
       "      <td>0</td>\n",
       "      <td>7</td>\n",
       "      <td>332</td>\n",
       "      <td>339</td>\n",
       "    </tr>\n",
       "  </tbody>\n",
       "</table>\n",
       "</div>"
      ],
      "text/plain": [
       "                  STATE/UT                   Pupose  \\\n",
       "YEAR                                                  \n",
       "2001-01-01  Andhra Pradesh             For Adoption   \n",
       "2001-01-01  Andhra Pradesh              For Begging   \n",
       "2001-01-01  Andhra Pradesh         For Camel racing   \n",
       "2001-01-01  Andhra Pradesh  For Illicit intercourse   \n",
       "2001-01-01  Andhra Pradesh             For marriage   \n",
       "\n",
       "            Total No. of cases reported  Male upto 10 years  \\\n",
       "YEAR                                                          \n",
       "2001-01-01                            8                   3   \n",
       "2001-01-01                            2                   0   \n",
       "2001-01-01                            0                   0   \n",
       "2001-01-01                           78                   0   \n",
       "2001-01-01                          339                   0   \n",
       "\n",
       "            Female upto 10 years  Male 10-15 years  Female 10-15 years  \\\n",
       "YEAR                                                                     \n",
       "2001-01-01                     1                 0                   0   \n",
       "2001-01-01                     0                 2                   0   \n",
       "2001-01-01                     0                 0                   0   \n",
       "2001-01-01                     2                 0                  25   \n",
       "2001-01-01                     0                 0                  73   \n",
       "\n",
       "            Male 15-18 years  Female 15-18 years  Male 18-30 years  \\\n",
       "YEAR                                                                 \n",
       "2001-01-01                 0                   0                 0   \n",
       "2001-01-01                 0                   0                 0   \n",
       "2001-01-01                 0                   0                 0   \n",
       "2001-01-01                 0                  24                 0   \n",
       "2001-01-01                 1                 164                 6   \n",
       "\n",
       "            Female 18-30 years  Male 30-50 years  Female 30-50 years  \\\n",
       "YEAR                                                                   \n",
       "2001-01-01                   4                 0                   0   \n",
       "2001-01-01                   0                 0                   0   \n",
       "2001-01-01                   0                 0                   0   \n",
       "2001-01-01                  25                 0                   2   \n",
       "2001-01-01                  91                 0                   4   \n",
       "\n",
       "            Male above 50 years  Female above 50 years  Total Male  \\\n",
       "YEAR                                                                 \n",
       "2001-01-01                    0                      0           3   \n",
       "2001-01-01                    0                      0           2   \n",
       "2001-01-01                    0                      0           0   \n",
       "2001-01-01                    0                      0           0   \n",
       "2001-01-01                    0                      0           7   \n",
       "\n",
       "            Total Female  Grand Total  \n",
       "YEAR                                   \n",
       "2001-01-01             5            8  \n",
       "2001-01-01             0            2  \n",
       "2001-01-01             0            0  \n",
       "2001-01-01            78           78  \n",
       "2001-01-01           332          339  "
      ]
     },
     "execution_count": 6,
     "metadata": {},
     "output_type": "execute_result"
    }
   ],
   "source": [
    "india_kidnap.head()"
   ]
  },
  {
   "cell_type": "markdown",
   "metadata": {},
   "source": [
    "Purpose of Kidnapping: \"For Camel Racing\". Wut."
   ]
  },
  {
   "cell_type": "code",
   "execution_count": 7,
   "metadata": {
    "collapsed": false,
    "scrolled": true
   },
   "outputs": [
    {
     "data": {
      "text/html": [
       "<div>\n",
       "<table border=\"1\" class=\"dataframe\">\n",
       "  <thead>\n",
       "    <tr style=\"text-align: right;\">\n",
       "      <th></th>\n",
       "      <th>STATE/UT</th>\n",
       "      <th>GENDER</th>\n",
       "      <th>Upto 10 years</th>\n",
       "      <th>10-15 years</th>\n",
       "      <th>15-18 years</th>\n",
       "      <th>18-30 years</th>\n",
       "      <th>30-50 years</th>\n",
       "      <th>Above 50 years</th>\n",
       "      <th>Total</th>\n",
       "    </tr>\n",
       "    <tr>\n",
       "      <th>YEAR</th>\n",
       "      <th></th>\n",
       "      <th></th>\n",
       "      <th></th>\n",
       "      <th></th>\n",
       "      <th></th>\n",
       "      <th></th>\n",
       "      <th></th>\n",
       "      <th></th>\n",
       "      <th></th>\n",
       "    </tr>\n",
       "  </thead>\n",
       "  <tbody>\n",
       "    <tr>\n",
       "      <th>2001-01-01</th>\n",
       "      <td>Andhra Pradesh</td>\n",
       "      <td>Male</td>\n",
       "      <td>35</td>\n",
       "      <td>59</td>\n",
       "      <td>88</td>\n",
       "      <td>827</td>\n",
       "      <td>952</td>\n",
       "      <td>215</td>\n",
       "      <td>2176</td>\n",
       "    </tr>\n",
       "    <tr>\n",
       "      <th>2001-01-01</th>\n",
       "      <td>Andhra Pradesh</td>\n",
       "      <td>Female</td>\n",
       "      <td>38</td>\n",
       "      <td>15</td>\n",
       "      <td>43</td>\n",
       "      <td>269</td>\n",
       "      <td>175</td>\n",
       "      <td>67</td>\n",
       "      <td>607</td>\n",
       "    </tr>\n",
       "    <tr>\n",
       "      <th>2001-01-01</th>\n",
       "      <td>Andhra Pradesh</td>\n",
       "      <td>Total</td>\n",
       "      <td>73</td>\n",
       "      <td>74</td>\n",
       "      <td>131</td>\n",
       "      <td>1096</td>\n",
       "      <td>1127</td>\n",
       "      <td>282</td>\n",
       "      <td>2783</td>\n",
       "    </tr>\n",
       "    <tr>\n",
       "      <th>2001-01-01</th>\n",
       "      <td>Arunachal Pradesh</td>\n",
       "      <td>Male</td>\n",
       "      <td>0</td>\n",
       "      <td>0</td>\n",
       "      <td>0</td>\n",
       "      <td>31</td>\n",
       "      <td>32</td>\n",
       "      <td>4</td>\n",
       "      <td>67</td>\n",
       "    </tr>\n",
       "    <tr>\n",
       "      <th>2001-01-01</th>\n",
       "      <td>Arunachal Pradesh</td>\n",
       "      <td>Female</td>\n",
       "      <td>0</td>\n",
       "      <td>0</td>\n",
       "      <td>0</td>\n",
       "      <td>10</td>\n",
       "      <td>4</td>\n",
       "      <td>2</td>\n",
       "      <td>16</td>\n",
       "    </tr>\n",
       "  </tbody>\n",
       "</table>\n",
       "</div>"
      ],
      "text/plain": [
       "                     STATE/UT  GENDER  Upto 10 years  10-15 years  \\\n",
       "YEAR                                                                \n",
       "2001-01-01     Andhra Pradesh    Male             35           59   \n",
       "2001-01-01     Andhra Pradesh  Female             38           15   \n",
       "2001-01-01     Andhra Pradesh   Total             73           74   \n",
       "2001-01-01  Arunachal Pradesh    Male              0            0   \n",
       "2001-01-01  Arunachal Pradesh  Female              0            0   \n",
       "\n",
       "            15-18 years  18-30 years  30-50 years  Above 50 years  Total  \n",
       "YEAR                                                                      \n",
       "2001-01-01           88          827          952             215   2176  \n",
       "2001-01-01           43          269          175              67    607  \n",
       "2001-01-01          131         1096         1127             282   2783  \n",
       "2001-01-01            0           31           32               4     67  \n",
       "2001-01-01            0           10            4               2     16  "
      ]
     },
     "execution_count": 7,
     "metadata": {},
     "output_type": "execute_result"
    }
   ],
   "source": [
    "india_murder.head()"
   ]
  },
  {
   "cell_type": "code",
   "execution_count": 8,
   "metadata": {
    "collapsed": false,
    "scrolled": true
   },
   "outputs": [
    {
     "data": {
      "text/html": [
       "<div>\n",
       "<table border=\"1\" class=\"dataframe\">\n",
       "  <thead>\n",
       "    <tr style=\"text-align: right;\">\n",
       "      <th></th>\n",
       "      <th>STATE/UT</th>\n",
       "      <th>Total</th>\n",
       "    </tr>\n",
       "    <tr>\n",
       "      <th>YEAR</th>\n",
       "      <th></th>\n",
       "      <th></th>\n",
       "    </tr>\n",
       "  </thead>\n",
       "  <tbody>\n",
       "    <tr>\n",
       "      <th>2001-01-01</th>\n",
       "      <td>Andhra Pradesh</td>\n",
       "      <td>2783</td>\n",
       "    </tr>\n",
       "    <tr>\n",
       "      <th>2001-01-01</th>\n",
       "      <td>Arunachal Pradesh</td>\n",
       "      <td>83</td>\n",
       "    </tr>\n",
       "    <tr>\n",
       "      <th>2001-01-01</th>\n",
       "      <td>Assam</td>\n",
       "      <td>1356</td>\n",
       "    </tr>\n",
       "    <tr>\n",
       "      <th>2001-01-01</th>\n",
       "      <td>Bihar</td>\n",
       "      <td>3643</td>\n",
       "    </tr>\n",
       "    <tr>\n",
       "      <th>2001-01-01</th>\n",
       "      <td>Chhattisgarh</td>\n",
       "      <td>1657</td>\n",
       "    </tr>\n",
       "  </tbody>\n",
       "</table>\n",
       "</div>"
      ],
      "text/plain": [
       "                     STATE/UT  Total\n",
       "YEAR                                \n",
       "2001-01-01     Andhra Pradesh   2783\n",
       "2001-01-01  Arunachal Pradesh     83\n",
       "2001-01-01              Assam   1356\n",
       "2001-01-01              Bihar   3643\n",
       "2001-01-01       Chhattisgarh   1657"
      ]
     },
     "execution_count": 8,
     "metadata": {},
     "output_type": "execute_result"
    }
   ],
   "source": [
    "state_murder = india_murder[india_murder['GENDER'] == 'Total']\n",
    "state_murder = state_murder[[0, 8]]\n",
    "state_murder.head()"
   ]
  },
  {
   "cell_type": "code",
   "execution_count": 9,
   "metadata": {
    "collapsed": false
   },
   "outputs": [
    {
     "data": {
      "text/html": [
       "<div>\n",
       "<table border=\"1\" class=\"dataframe\">\n",
       "  <thead>\n",
       "    <tr style=\"text-align: right;\">\n",
       "      <th></th>\n",
       "      <th>Grand Total</th>\n",
       "    </tr>\n",
       "    <tr>\n",
       "      <th>YEAR</th>\n",
       "      <th></th>\n",
       "    </tr>\n",
       "  </thead>\n",
       "  <tbody>\n",
       "    <tr>\n",
       "      <th>2001-01-01</th>\n",
       "      <td>22996</td>\n",
       "    </tr>\n",
       "    <tr>\n",
       "      <th>2002-01-01</th>\n",
       "      <td>22173</td>\n",
       "    </tr>\n",
       "    <tr>\n",
       "      <th>2003-01-01</th>\n",
       "      <td>20021</td>\n",
       "    </tr>\n",
       "    <tr>\n",
       "      <th>2004-01-01</th>\n",
       "      <td>23309</td>\n",
       "    </tr>\n",
       "    <tr>\n",
       "      <th>2005-01-01</th>\n",
       "      <td>23133</td>\n",
       "    </tr>\n",
       "    <tr>\n",
       "      <th>2006-01-01</th>\n",
       "      <td>24292</td>\n",
       "    </tr>\n",
       "    <tr>\n",
       "      <th>2007-01-01</th>\n",
       "      <td>28030</td>\n",
       "    </tr>\n",
       "    <tr>\n",
       "      <th>2008-01-01</th>\n",
       "      <td>30595</td>\n",
       "    </tr>\n",
       "    <tr>\n",
       "      <th>2009-01-01</th>\n",
       "      <td>34304</td>\n",
       "    </tr>\n",
       "    <tr>\n",
       "      <th>2010-01-01</th>\n",
       "      <td>39148</td>\n",
       "    </tr>\n",
       "    <tr>\n",
       "      <th>2011-01-01</th>\n",
       "      <td>45239</td>\n",
       "    </tr>\n",
       "    <tr>\n",
       "      <th>2012-01-01</th>\n",
       "      <td>48219</td>\n",
       "    </tr>\n",
       "  </tbody>\n",
       "</table>\n",
       "</div>"
      ],
      "text/plain": [
       "            Grand Total\n",
       "YEAR                   \n",
       "2001-01-01        22996\n",
       "2002-01-01        22173\n",
       "2003-01-01        20021\n",
       "2004-01-01        23309\n",
       "2005-01-01        23133\n",
       "2006-01-01        24292\n",
       "2007-01-01        28030\n",
       "2008-01-01        30595\n",
       "2009-01-01        34304\n",
       "2010-01-01        39148\n",
       "2011-01-01        45239\n",
       "2012-01-01        48219"
      ]
     },
     "execution_count": 9,
     "metadata": {},
     "output_type": "execute_result"
    }
   ],
   "source": [
    "state_kidnap = india_kidnap[india_kidnap['Pupose'] == 'Total']\n",
    "state_kidnap = state_kidnap[[0, 17]]\n",
    "india_kidnap = state_kidnap.groupby(level=0).sum()\n",
    "india_kidnap"
   ]
  },
  {
   "cell_type": "code",
   "execution_count": 10,
   "metadata": {
    "collapsed": false
   },
   "outputs": [
    {
     "data": {
      "text/html": [
       "<div>\n",
       "<table border=\"1\" class=\"dataframe\">\n",
       "  <thead>\n",
       "    <tr style=\"text-align: right;\">\n",
       "      <th></th>\n",
       "      <th>Total</th>\n",
       "    </tr>\n",
       "    <tr>\n",
       "      <th>YEAR</th>\n",
       "      <th></th>\n",
       "    </tr>\n",
       "  </thead>\n",
       "  <tbody>\n",
       "    <tr>\n",
       "      <th>2001-01-01</th>\n",
       "      <td>38636</td>\n",
       "    </tr>\n",
       "    <tr>\n",
       "      <th>2002-01-01</th>\n",
       "      <td>38033</td>\n",
       "    </tr>\n",
       "    <tr>\n",
       "      <th>2003-01-01</th>\n",
       "      <td>33821</td>\n",
       "    </tr>\n",
       "    <tr>\n",
       "      <th>2004-01-01</th>\n",
       "      <td>34915</td>\n",
       "    </tr>\n",
       "    <tr>\n",
       "      <th>2005-01-01</th>\n",
       "      <td>34419</td>\n",
       "    </tr>\n",
       "    <tr>\n",
       "      <th>2006-01-01</th>\n",
       "      <td>33808</td>\n",
       "    </tr>\n",
       "    <tr>\n",
       "      <th>2007-01-01</th>\n",
       "      <td>33428</td>\n",
       "    </tr>\n",
       "    <tr>\n",
       "      <th>2008-01-01</th>\n",
       "      <td>33727</td>\n",
       "    </tr>\n",
       "    <tr>\n",
       "      <th>2009-01-01</th>\n",
       "      <td>33159</td>\n",
       "    </tr>\n",
       "    <tr>\n",
       "      <th>2010-01-01</th>\n",
       "      <td>33908</td>\n",
       "    </tr>\n",
       "    <tr>\n",
       "      <th>2011-01-01</th>\n",
       "      <td>35123</td>\n",
       "    </tr>\n",
       "    <tr>\n",
       "      <th>2012-01-01</th>\n",
       "      <td>35122</td>\n",
       "    </tr>\n",
       "  </tbody>\n",
       "</table>\n",
       "</div>"
      ],
      "text/plain": [
       "            Total\n",
       "YEAR             \n",
       "2001-01-01  38636\n",
       "2002-01-01  38033\n",
       "2003-01-01  33821\n",
       "2004-01-01  34915\n",
       "2005-01-01  34419\n",
       "2006-01-01  33808\n",
       "2007-01-01  33428\n",
       "2008-01-01  33727\n",
       "2009-01-01  33159\n",
       "2010-01-01  33908\n",
       "2011-01-01  35123\n",
       "2012-01-01  35122"
      ]
     },
     "execution_count": 10,
     "metadata": {},
     "output_type": "execute_result"
    }
   ],
   "source": [
    "india_murder = state_murder.groupby(level=0).sum()\n",
    "india_murder"
   ]
  },
  {
   "cell_type": "code",
   "execution_count": 11,
   "metadata": {
    "collapsed": false,
    "scrolled": true
   },
   "outputs": [
    {
     "data": {
      "text/html": [
       "<div>\n",
       "<table border=\"1\" class=\"dataframe\">\n",
       "  <thead>\n",
       "    <tr style=\"text-align: right;\">\n",
       "      <th></th>\n",
       "      <th>STATE/UT</th>\n",
       "      <th>CRIME HEAD</th>\n",
       "      <th>2001</th>\n",
       "      <th>2002</th>\n",
       "      <th>2003</th>\n",
       "      <th>2004</th>\n",
       "      <th>2005</th>\n",
       "      <th>2006</th>\n",
       "      <th>2007</th>\n",
       "      <th>2008</th>\n",
       "      <th>2009</th>\n",
       "      <th>2010</th>\n",
       "      <th>2011</th>\n",
       "      <th>2012</th>\n",
       "    </tr>\n",
       "  </thead>\n",
       "  <tbody>\n",
       "    <tr>\n",
       "      <th>0</th>\n",
       "      <td>ANDHRA PRADESH</td>\n",
       "      <td>RAPE</td>\n",
       "      <td>1150</td>\n",
       "      <td>1340</td>\n",
       "      <td>1237</td>\n",
       "      <td>1443</td>\n",
       "      <td>1415</td>\n",
       "      <td>1360</td>\n",
       "      <td>1436</td>\n",
       "      <td>1531</td>\n",
       "      <td>1487</td>\n",
       "      <td>1761</td>\n",
       "      <td>1758</td>\n",
       "      <td>1664</td>\n",
       "    </tr>\n",
       "    <tr>\n",
       "      <th>1</th>\n",
       "      <td>ARUNACHAL PRADESH</td>\n",
       "      <td>RAPE</td>\n",
       "      <td>51</td>\n",
       "      <td>61</td>\n",
       "      <td>35</td>\n",
       "      <td>56</td>\n",
       "      <td>38</td>\n",
       "      <td>40</td>\n",
       "      <td>57</td>\n",
       "      <td>37</td>\n",
       "      <td>60</td>\n",
       "      <td>49</td>\n",
       "      <td>47</td>\n",
       "      <td>47</td>\n",
       "    </tr>\n",
       "    <tr>\n",
       "      <th>2</th>\n",
       "      <td>ASSAM</td>\n",
       "      <td>RAPE</td>\n",
       "      <td>928</td>\n",
       "      <td>1019</td>\n",
       "      <td>1188</td>\n",
       "      <td>1233</td>\n",
       "      <td>1406</td>\n",
       "      <td>1290</td>\n",
       "      <td>1477</td>\n",
       "      <td>1445</td>\n",
       "      <td>1644</td>\n",
       "      <td>1629</td>\n",
       "      <td>1470</td>\n",
       "      <td>1626</td>\n",
       "    </tr>\n",
       "    <tr>\n",
       "      <th>3</th>\n",
       "      <td>BIHAR</td>\n",
       "      <td>RAPE</td>\n",
       "      <td>1400</td>\n",
       "      <td>1304</td>\n",
       "      <td>1120</td>\n",
       "      <td>1157</td>\n",
       "      <td>1455</td>\n",
       "      <td>1451</td>\n",
       "      <td>1816</td>\n",
       "      <td>1464</td>\n",
       "      <td>1086</td>\n",
       "      <td>892</td>\n",
       "      <td>1185</td>\n",
       "      <td>1327</td>\n",
       "    </tr>\n",
       "    <tr>\n",
       "      <th>4</th>\n",
       "      <td>CHHATTISGARH</td>\n",
       "      <td>RAPE</td>\n",
       "      <td>1134</td>\n",
       "      <td>1214</td>\n",
       "      <td>1020</td>\n",
       "      <td>1144</td>\n",
       "      <td>1107</td>\n",
       "      <td>1211</td>\n",
       "      <td>1146</td>\n",
       "      <td>1108</td>\n",
       "      <td>1128</td>\n",
       "      <td>1198</td>\n",
       "      <td>1257</td>\n",
       "      <td>1214</td>\n",
       "    </tr>\n",
       "  </tbody>\n",
       "</table>\n",
       "</div>"
      ],
      "text/plain": [
       "            STATE/UT CRIME HEAD  2001  2002  2003  2004  2005  2006  2007  \\\n",
       "0     ANDHRA PRADESH       RAPE  1150  1340  1237  1443  1415  1360  1436   \n",
       "1  ARUNACHAL PRADESH       RAPE    51    61    35    56    38    40    57   \n",
       "2              ASSAM       RAPE   928  1019  1188  1233  1406  1290  1477   \n",
       "3              BIHAR       RAPE  1400  1304  1120  1157  1455  1451  1816   \n",
       "4       CHHATTISGARH       RAPE  1134  1214  1020  1144  1107  1211  1146   \n",
       "\n",
       "   2008  2009  2010  2011  2012  \n",
       "0  1531  1487  1761  1758  1664  \n",
       "1    37    60    49    47    47  \n",
       "2  1445  1644  1629  1470  1626  \n",
       "3  1464  1086   892  1185  1327  \n",
       "4  1108  1128  1198  1257  1214  "
      ]
     },
     "execution_count": 11,
     "metadata": {},
     "output_type": "execute_result"
    }
   ],
   "source": [
    "state_rape = india_women[india_women['CRIME HEAD'] == 'RAPE']\n",
    "state_rape.head()"
   ]
  },
  {
   "cell_type": "code",
   "execution_count": 12,
   "metadata": {
    "collapsed": false
   },
   "outputs": [
    {
     "data": {
      "text/plain": [
       "YEAR\n",
       "2001-01-01    20446\n",
       "2002-01-01    21236\n",
       "2003-01-01    19994\n",
       "2004-01-01    22489\n",
       "2005-01-01    23212\n",
       "2006-01-01    23792\n",
       "2007-01-01    25363\n",
       "2008-01-01    25036\n",
       "2009-01-01    25845\n",
       "2010-01-01    27074\n",
       "2011-01-01    28878\n",
       "2012-01-01    31117\n",
       "Name: 37, dtype: object"
      ]
     },
     "execution_count": 12,
     "metadata": {},
     "output_type": "execute_result"
    }
   ],
   "source": [
    "india_rape = state_rape.loc[37][2:]\n",
    "india_rape.index = india_murder.index\n",
    "india_rape.columns = ['Total']\n",
    "india_rape"
   ]
  },
  {
   "cell_type": "code",
   "execution_count": 13,
   "metadata": {
    "collapsed": false
   },
   "outputs": [
    {
     "data": {
      "text/html": [
       "<div>\n",
       "<table border=\"1\" class=\"dataframe\">\n",
       "  <thead>\n",
       "    <tr style=\"text-align: right;\">\n",
       "      <th></th>\n",
       "      <th>Population</th>\n",
       "      <th>Violent crime total</th>\n",
       "      <th>Murder and nonnegligent Manslaughter</th>\n",
       "      <th>Forcible rape</th>\n",
       "      <th>Robbery</th>\n",
       "      <th>Aggravated assault</th>\n",
       "    </tr>\n",
       "    <tr>\n",
       "      <th>Year</th>\n",
       "      <th></th>\n",
       "      <th></th>\n",
       "      <th></th>\n",
       "      <th></th>\n",
       "      <th></th>\n",
       "      <th></th>\n",
       "    </tr>\n",
       "  </thead>\n",
       "  <tbody>\n",
       "    <tr>\n",
       "      <th>1960-01-01</th>\n",
       "      <td>179323175</td>\n",
       "      <td>288460</td>\n",
       "      <td>9110</td>\n",
       "      <td>17190</td>\n",
       "      <td>107840</td>\n",
       "      <td>154320</td>\n",
       "    </tr>\n",
       "    <tr>\n",
       "      <th>1961-01-01</th>\n",
       "      <td>182992000</td>\n",
       "      <td>289390</td>\n",
       "      <td>8740</td>\n",
       "      <td>17220</td>\n",
       "      <td>106670</td>\n",
       "      <td>156760</td>\n",
       "    </tr>\n",
       "    <tr>\n",
       "      <th>1962-01-01</th>\n",
       "      <td>185771000</td>\n",
       "      <td>301510</td>\n",
       "      <td>8530</td>\n",
       "      <td>17550</td>\n",
       "      <td>110860</td>\n",
       "      <td>164570</td>\n",
       "    </tr>\n",
       "    <tr>\n",
       "      <th>1963-01-01</th>\n",
       "      <td>188483000</td>\n",
       "      <td>316970</td>\n",
       "      <td>8640</td>\n",
       "      <td>17650</td>\n",
       "      <td>116470</td>\n",
       "      <td>174210</td>\n",
       "    </tr>\n",
       "    <tr>\n",
       "      <th>1964-01-01</th>\n",
       "      <td>191141000</td>\n",
       "      <td>364220</td>\n",
       "      <td>9360</td>\n",
       "      <td>21420</td>\n",
       "      <td>130390</td>\n",
       "      <td>203050</td>\n",
       "    </tr>\n",
       "  </tbody>\n",
       "</table>\n",
       "</div>"
      ],
      "text/plain": [
       "            Population  Violent crime total  \\\n",
       "Year                                          \n",
       "1960-01-01   179323175               288460   \n",
       "1961-01-01   182992000               289390   \n",
       "1962-01-01   185771000               301510   \n",
       "1963-01-01   188483000               316970   \n",
       "1964-01-01   191141000               364220   \n",
       "\n",
       "            Murder and nonnegligent Manslaughter  Forcible rape  Robbery  \\\n",
       "Year                                                                       \n",
       "1960-01-01                                  9110          17190   107840   \n",
       "1961-01-01                                  8740          17220   106670   \n",
       "1962-01-01                                  8530          17550   110860   \n",
       "1963-01-01                                  8640          17650   116470   \n",
       "1964-01-01                                  9360          21420   130390   \n",
       "\n",
       "            Aggravated assault  \n",
       "Year                            \n",
       "1960-01-01              154320  \n",
       "1961-01-01              156760  \n",
       "1962-01-01              164570  \n",
       "1963-01-01              174210  \n",
       "1964-01-01              203050  "
      ]
     },
     "execution_count": 13,
     "metadata": {},
     "output_type": "execute_result"
    }
   ],
   "source": [
    "us_violentcrime.head()"
   ]
  },
  {
   "cell_type": "code",
   "execution_count": 14,
   "metadata": {
    "collapsed": false,
    "scrolled": false
   },
   "outputs": [
    {
     "data": {
      "text/html": [
       "<div>\n",
       "<table border=\"1\" class=\"dataframe\">\n",
       "  <thead>\n",
       "    <tr style=\"text-align: right;\">\n",
       "      <th></th>\n",
       "      <th>location</th>\n",
       "      <th>variable</th>\n",
       "      <th>Unit</th>\n",
       "      <th>Value</th>\n",
       "    </tr>\n",
       "    <tr>\n",
       "      <th>Date</th>\n",
       "      <th></th>\n",
       "      <th></th>\n",
       "      <th></th>\n",
       "      <th></th>\n",
       "    </tr>\n",
       "  </thead>\n",
       "  <tbody>\n",
       "    <tr>\n",
       "      <th>2003-01-01</th>\n",
       "      <td>Netherlands</td>\n",
       "      <td>Assault at the national level, count</td>\n",
       "      <td>Number</td>\n",
       "      <td>53500</td>\n",
       "    </tr>\n",
       "    <tr>\n",
       "      <th>2004-01-01</th>\n",
       "      <td>Netherlands</td>\n",
       "      <td>Assault at the national level, count</td>\n",
       "      <td>Number</td>\n",
       "      <td>55300</td>\n",
       "    </tr>\n",
       "    <tr>\n",
       "      <th>2005-01-01</th>\n",
       "      <td>Netherlands</td>\n",
       "      <td>Assault at the national level, count</td>\n",
       "      <td>Number</td>\n",
       "      <td>67060</td>\n",
       "    </tr>\n",
       "    <tr>\n",
       "      <th>2006-01-01</th>\n",
       "      <td>Netherlands</td>\n",
       "      <td>Assault at the national level, count</td>\n",
       "      <td>Number</td>\n",
       "      <td>69185</td>\n",
       "    </tr>\n",
       "    <tr>\n",
       "      <th>2007-01-01</th>\n",
       "      <td>Netherlands</td>\n",
       "      <td>Assault at the national level, count</td>\n",
       "      <td>Number</td>\n",
       "      <td>71570</td>\n",
       "    </tr>\n",
       "  </tbody>\n",
       "</table>\n",
       "</div>"
      ],
      "text/plain": [
       "               location                              variable    Unit  Value\n",
       "Date                                                                        \n",
       "2003-01-01  Netherlands  Assault at the national level, count  Number  53500\n",
       "2004-01-01  Netherlands  Assault at the national level, count  Number  55300\n",
       "2005-01-01  Netherlands  Assault at the national level, count  Number  67060\n",
       "2006-01-01  Netherlands  Assault at the national level, count  Number  69185\n",
       "2007-01-01  Netherlands  Assault at the national level, count  Number  71570"
      ]
     },
     "execution_count": 14,
     "metadata": {},
     "output_type": "execute_result"
    }
   ],
   "source": [
    "france_homicide.head()\n",
    "neth_assault.head()"
   ]
  },
  {
   "cell_type": "code",
   "execution_count": 15,
   "metadata": {
    "collapsed": false
   },
   "outputs": [],
   "source": [
    "france_assault = france_assault[[3]]\n",
    "france_homicide = france_homicide[[3]]\n",
    "france_kidnap = france_kidnap[[3]]\n",
    "france_rape = france_rape[[3]]"
   ]
  },
  {
   "cell_type": "code",
   "execution_count": 16,
   "metadata": {
    "collapsed": true
   },
   "outputs": [],
   "source": [
    "neth_assault = neth_assault[[3]]\n",
    "neth_homicide = neth_homicide[[3]]\n",
    "neth_kidnap = neth_kidnap[[3]]\n",
    "neth_rape = neth_rape[[3]]"
   ]
  },
  {
   "cell_type": "markdown",
   "metadata": {},
   "source": [
    "# Final merging of data and formation of tables"
   ]
  },
  {
   "cell_type": "code",
   "execution_count": 17,
   "metadata": {
    "collapsed": false,
    "scrolled": true
   },
   "outputs": [
    {
     "data": {
      "text/html": [
       "<div>\n",
       "<table border=\"1\" class=\"dataframe\">\n",
       "  <thead>\n",
       "    <tr style=\"text-align: right;\">\n",
       "      <th></th>\n",
       "      <th>Murder</th>\n",
       "      <th>Kidnapping and Abduction</th>\n",
       "      <th>Rape</th>\n",
       "    </tr>\n",
       "    <tr>\n",
       "      <th>YEAR</th>\n",
       "      <th></th>\n",
       "      <th></th>\n",
       "      <th></th>\n",
       "    </tr>\n",
       "  </thead>\n",
       "  <tbody>\n",
       "    <tr>\n",
       "      <th>2001-01-01</th>\n",
       "      <td>38636</td>\n",
       "      <td>22996</td>\n",
       "      <td>20446</td>\n",
       "    </tr>\n",
       "    <tr>\n",
       "      <th>2002-01-01</th>\n",
       "      <td>38033</td>\n",
       "      <td>22173</td>\n",
       "      <td>21236</td>\n",
       "    </tr>\n",
       "    <tr>\n",
       "      <th>2003-01-01</th>\n",
       "      <td>33821</td>\n",
       "      <td>20021</td>\n",
       "      <td>19994</td>\n",
       "    </tr>\n",
       "    <tr>\n",
       "      <th>2004-01-01</th>\n",
       "      <td>34915</td>\n",
       "      <td>23309</td>\n",
       "      <td>22489</td>\n",
       "    </tr>\n",
       "    <tr>\n",
       "      <th>2005-01-01</th>\n",
       "      <td>34419</td>\n",
       "      <td>23133</td>\n",
       "      <td>23212</td>\n",
       "    </tr>\n",
       "    <tr>\n",
       "      <th>2006-01-01</th>\n",
       "      <td>33808</td>\n",
       "      <td>24292</td>\n",
       "      <td>23792</td>\n",
       "    </tr>\n",
       "    <tr>\n",
       "      <th>2007-01-01</th>\n",
       "      <td>33428</td>\n",
       "      <td>28030</td>\n",
       "      <td>25363</td>\n",
       "    </tr>\n",
       "    <tr>\n",
       "      <th>2008-01-01</th>\n",
       "      <td>33727</td>\n",
       "      <td>30595</td>\n",
       "      <td>25036</td>\n",
       "    </tr>\n",
       "    <tr>\n",
       "      <th>2009-01-01</th>\n",
       "      <td>33159</td>\n",
       "      <td>34304</td>\n",
       "      <td>25845</td>\n",
       "    </tr>\n",
       "    <tr>\n",
       "      <th>2010-01-01</th>\n",
       "      <td>33908</td>\n",
       "      <td>39148</td>\n",
       "      <td>27074</td>\n",
       "    </tr>\n",
       "    <tr>\n",
       "      <th>2011-01-01</th>\n",
       "      <td>35123</td>\n",
       "      <td>45239</td>\n",
       "      <td>28878</td>\n",
       "    </tr>\n",
       "    <tr>\n",
       "      <th>2012-01-01</th>\n",
       "      <td>35122</td>\n",
       "      <td>48219</td>\n",
       "      <td>31117</td>\n",
       "    </tr>\n",
       "  </tbody>\n",
       "</table>\n",
       "</div>"
      ],
      "text/plain": [
       "            Murder  Kidnapping and Abduction   Rape\n",
       "YEAR                                               \n",
       "2001-01-01   38636                     22996  20446\n",
       "2002-01-01   38033                     22173  21236\n",
       "2003-01-01   33821                     20021  19994\n",
       "2004-01-01   34915                     23309  22489\n",
       "2005-01-01   34419                     23133  23212\n",
       "2006-01-01   33808                     24292  23792\n",
       "2007-01-01   33428                     28030  25363\n",
       "2008-01-01   33727                     30595  25036\n",
       "2009-01-01   33159                     34304  25845\n",
       "2010-01-01   33908                     39148  27074\n",
       "2011-01-01   35123                     45239  28878\n",
       "2012-01-01   35122                     48219  31117"
      ]
     },
     "execution_count": 17,
     "metadata": {},
     "output_type": "execute_result"
    }
   ],
   "source": [
    "india_violentcrime = pandas.concat([india_murder, india_kidnap, india_rape], axis=1)\n",
    "india_violentcrime.columns = ['Murder', 'Kidnapping and Abduction', 'Rape']\n",
    "india_violentcrime"
   ]
  },
  {
   "cell_type": "code",
   "execution_count": 18,
   "metadata": {
    "collapsed": false,
    "scrolled": true
   },
   "outputs": [
    {
     "data": {
      "text/html": [
       "<div>\n",
       "<table border=\"1\" class=\"dataframe\">\n",
       "  <thead>\n",
       "    <tr style=\"text-align: right;\">\n",
       "      <th></th>\n",
       "      <th>Homicide</th>\n",
       "      <th>Assault</th>\n",
       "      <th>Kidnapping and Abduction</th>\n",
       "      <th>Rape</th>\n",
       "    </tr>\n",
       "    <tr>\n",
       "      <th>Date</th>\n",
       "      <th></th>\n",
       "      <th></th>\n",
       "      <th></th>\n",
       "      <th></th>\n",
       "    </tr>\n",
       "  </thead>\n",
       "  <tbody>\n",
       "    <tr>\n",
       "      <th>2000-01-01</th>\n",
       "      <td>180</td>\n",
       "      <td>NaN</td>\n",
       "      <td>NaN</td>\n",
       "      <td>NaN</td>\n",
       "    </tr>\n",
       "    <tr>\n",
       "      <th>2001-01-01</th>\n",
       "      <td>202</td>\n",
       "      <td>NaN</td>\n",
       "      <td>NaN</td>\n",
       "      <td>NaN</td>\n",
       "    </tr>\n",
       "    <tr>\n",
       "      <th>2002-01-01</th>\n",
       "      <td>195</td>\n",
       "      <td>NaN</td>\n",
       "      <td>NaN</td>\n",
       "      <td>NaN</td>\n",
       "    </tr>\n",
       "    <tr>\n",
       "      <th>2003-01-01</th>\n",
       "      <td>202</td>\n",
       "      <td>53500</td>\n",
       "      <td>NaN</td>\n",
       "      <td>1700</td>\n",
       "    </tr>\n",
       "    <tr>\n",
       "      <th>2004-01-01</th>\n",
       "      <td>191</td>\n",
       "      <td>55300</td>\n",
       "      <td>NaN</td>\n",
       "      <td>1800</td>\n",
       "    </tr>\n",
       "    <tr>\n",
       "      <th>2005-01-01</th>\n",
       "      <td>174</td>\n",
       "      <td>67060</td>\n",
       "      <td>910</td>\n",
       "      <td>2505</td>\n",
       "    </tr>\n",
       "    <tr>\n",
       "      <th>2006-01-01</th>\n",
       "      <td>128</td>\n",
       "      <td>69185</td>\n",
       "      <td>850</td>\n",
       "      <td>2405</td>\n",
       "    </tr>\n",
       "    <tr>\n",
       "      <th>2007-01-01</th>\n",
       "      <td>143</td>\n",
       "      <td>71570</td>\n",
       "      <td>780</td>\n",
       "      <td>2135</td>\n",
       "    </tr>\n",
       "    <tr>\n",
       "      <th>2008-01-01</th>\n",
       "      <td>150</td>\n",
       "      <td>69005</td>\n",
       "      <td>760</td>\n",
       "      <td>1945</td>\n",
       "    </tr>\n",
       "    <tr>\n",
       "      <th>2009-01-01</th>\n",
       "      <td>154</td>\n",
       "      <td>65690</td>\n",
       "      <td>625</td>\n",
       "      <td>1920</td>\n",
       "    </tr>\n",
       "    <tr>\n",
       "      <th>2010-01-01</th>\n",
       "      <td>144</td>\n",
       "      <td>60280</td>\n",
       "      <td>645</td>\n",
       "      <td>1660</td>\n",
       "    </tr>\n",
       "    <tr>\n",
       "      <th>2011-01-01</th>\n",
       "      <td>143</td>\n",
       "      <td>59425</td>\n",
       "      <td>560</td>\n",
       "      <td>1605</td>\n",
       "    </tr>\n",
       "    <tr>\n",
       "      <th>2012-01-01</th>\n",
       "      <td>145</td>\n",
       "      <td>56650</td>\n",
       "      <td>580</td>\n",
       "      <td>1490</td>\n",
       "    </tr>\n",
       "    <tr>\n",
       "      <th>2013-01-01</th>\n",
       "      <td>125</td>\n",
       "      <td>52135</td>\n",
       "      <td>520</td>\n",
       "      <td>1320</td>\n",
       "    </tr>\n",
       "  </tbody>\n",
       "</table>\n",
       "</div>"
      ],
      "text/plain": [
       "            Homicide  Assault  Kidnapping and Abduction  Rape\n",
       "Date                                                         \n",
       "2000-01-01       180      NaN                       NaN   NaN\n",
       "2001-01-01       202      NaN                       NaN   NaN\n",
       "2002-01-01       195      NaN                       NaN   NaN\n",
       "2003-01-01       202    53500                       NaN  1700\n",
       "2004-01-01       191    55300                       NaN  1800\n",
       "2005-01-01       174    67060                       910  2505\n",
       "2006-01-01       128    69185                       850  2405\n",
       "2007-01-01       143    71570                       780  2135\n",
       "2008-01-01       150    69005                       760  1945\n",
       "2009-01-01       154    65690                       625  1920\n",
       "2010-01-01       144    60280                       645  1660\n",
       "2011-01-01       143    59425                       560  1605\n",
       "2012-01-01       145    56650                       580  1490\n",
       "2013-01-01       125    52135                       520  1320"
      ]
     },
     "execution_count": 18,
     "metadata": {},
     "output_type": "execute_result"
    }
   ],
   "source": [
    "neth_violentcrime = pandas.concat([neth_homicide, neth_assault, neth_kidnap, neth_rape], axis=1)\n",
    "neth_violentcrime.columns = ['Homicide', 'Assault', 'Kidnapping and Abduction', 'Rape']\n",
    "neth_violentcrime"
   ]
  },
  {
   "cell_type": "code",
   "execution_count": 19,
   "metadata": {
    "collapsed": false,
    "scrolled": true
   },
   "outputs": [
    {
     "data": {
      "text/html": [
       "<div>\n",
       "<table border=\"1\" class=\"dataframe\">\n",
       "  <thead>\n",
       "    <tr style=\"text-align: right;\">\n",
       "      <th></th>\n",
       "      <th>Homicide</th>\n",
       "      <th>Assault</th>\n",
       "      <th>Kidnapping and Abduction</th>\n",
       "      <th>Rape</th>\n",
       "    </tr>\n",
       "    <tr>\n",
       "      <th>Date</th>\n",
       "      <th></th>\n",
       "      <th></th>\n",
       "      <th></th>\n",
       "      <th></th>\n",
       "    </tr>\n",
       "  </thead>\n",
       "  <tbody>\n",
       "    <tr>\n",
       "      <th>2000-01-01</th>\n",
       "      <td>1051</td>\n",
       "      <td>NaN</td>\n",
       "      <td>NaN</td>\n",
       "      <td>NaN</td>\n",
       "    </tr>\n",
       "    <tr>\n",
       "      <th>2001-01-01</th>\n",
       "      <td>1047</td>\n",
       "      <td>NaN</td>\n",
       "      <td>NaN</td>\n",
       "      <td>NaN</td>\n",
       "    </tr>\n",
       "    <tr>\n",
       "      <th>2002-01-01</th>\n",
       "      <td>1119</td>\n",
       "      <td>NaN</td>\n",
       "      <td>NaN</td>\n",
       "      <td>NaN</td>\n",
       "    </tr>\n",
       "    <tr>\n",
       "      <th>2003-01-01</th>\n",
       "      <td>987</td>\n",
       "      <td>135003</td>\n",
       "      <td>2031</td>\n",
       "      <td>10408</td>\n",
       "    </tr>\n",
       "    <tr>\n",
       "      <th>2004-01-01</th>\n",
       "      <td>990</td>\n",
       "      <td>137679</td>\n",
       "      <td>2143</td>\n",
       "      <td>10506</td>\n",
       "    </tr>\n",
       "    <tr>\n",
       "      <th>2005-01-01</th>\n",
       "      <td>976</td>\n",
       "      <td>148651</td>\n",
       "      <td>2012</td>\n",
       "      <td>9993</td>\n",
       "    </tr>\n",
       "    <tr>\n",
       "      <th>2006-01-01</th>\n",
       "      <td>879</td>\n",
       "      <td>164359</td>\n",
       "      <td>2288</td>\n",
       "      <td>9784</td>\n",
       "    </tr>\n",
       "    <tr>\n",
       "      <th>2007-01-01</th>\n",
       "      <td>993</td>\n",
       "      <td>175886</td>\n",
       "      <td>2109</td>\n",
       "      <td>10132</td>\n",
       "    </tr>\n",
       "    <tr>\n",
       "      <th>2008-01-01</th>\n",
       "      <td>1021</td>\n",
       "      <td>187937</td>\n",
       "      <td>2074</td>\n",
       "      <td>10277</td>\n",
       "    </tr>\n",
       "    <tr>\n",
       "      <th>2009-01-01</th>\n",
       "      <td>819</td>\n",
       "      <td>193405</td>\n",
       "      <td>2085</td>\n",
       "      <td>9842</td>\n",
       "    </tr>\n",
       "    <tr>\n",
       "      <th>2010-01-01</th>\n",
       "      <td>796</td>\n",
       "      <td>192906</td>\n",
       "      <td>2092</td>\n",
       "      <td>10108</td>\n",
       "    </tr>\n",
       "    <tr>\n",
       "      <th>2011-01-01</th>\n",
       "      <td>856</td>\n",
       "      <td>192263</td>\n",
       "      <td>2234</td>\n",
       "      <td>10406</td>\n",
       "    </tr>\n",
       "    <tr>\n",
       "      <th>2012-01-01</th>\n",
       "      <td>784</td>\n",
       "      <td>193081</td>\n",
       "      <td>2117</td>\n",
       "      <td>10885</td>\n",
       "    </tr>\n",
       "    <tr>\n",
       "      <th>2013-01-01</th>\n",
       "      <td>777</td>\n",
       "      <td>192643</td>\n",
       "      <td>2266</td>\n",
       "      <td>11171</td>\n",
       "    </tr>\n",
       "  </tbody>\n",
       "</table>\n",
       "</div>"
      ],
      "text/plain": [
       "            Homicide  Assault  Kidnapping and Abduction   Rape\n",
       "Date                                                          \n",
       "2000-01-01      1051      NaN                       NaN    NaN\n",
       "2001-01-01      1047      NaN                       NaN    NaN\n",
       "2002-01-01      1119      NaN                       NaN    NaN\n",
       "2003-01-01       987   135003                      2031  10408\n",
       "2004-01-01       990   137679                      2143  10506\n",
       "2005-01-01       976   148651                      2012   9993\n",
       "2006-01-01       879   164359                      2288   9784\n",
       "2007-01-01       993   175886                      2109  10132\n",
       "2008-01-01      1021   187937                      2074  10277\n",
       "2009-01-01       819   193405                      2085   9842\n",
       "2010-01-01       796   192906                      2092  10108\n",
       "2011-01-01       856   192263                      2234  10406\n",
       "2012-01-01       784   193081                      2117  10885\n",
       "2013-01-01       777   192643                      2266  11171"
      ]
     },
     "execution_count": 19,
     "metadata": {},
     "output_type": "execute_result"
    }
   ],
   "source": [
    "france_violentcrime = pandas.concat([france_homicide, france_assault, france_kidnap, france_rape], axis=1)\n",
    "france_violentcrime.columns = ['Homicide', 'Assault', 'Kidnapping and Abduction', 'Rape']\n",
    "france_violentcrime"
   ]
  },
  {
   "cell_type": "code",
   "execution_count": 20,
   "metadata": {
    "collapsed": false,
    "scrolled": true
   },
   "outputs": [
    {
     "data": {
      "text/html": [
       "<div>\n",
       "<table border=\"1\" class=\"dataframe\">\n",
       "  <thead>\n",
       "    <tr style=\"text-align: right;\">\n",
       "      <th></th>\n",
       "      <th>Murder and nonnegligent Manslaughter</th>\n",
       "      <th>Forcible rape</th>\n",
       "      <th>Aggravated assault</th>\n",
       "    </tr>\n",
       "    <tr>\n",
       "      <th>Year</th>\n",
       "      <th></th>\n",
       "      <th></th>\n",
       "      <th></th>\n",
       "    </tr>\n",
       "  </thead>\n",
       "  <tbody>\n",
       "    <tr>\n",
       "      <th>2000-01-01</th>\n",
       "      <td>15586</td>\n",
       "      <td>90178</td>\n",
       "      <td>911706</td>\n",
       "    </tr>\n",
       "    <tr>\n",
       "      <th>2001-01-01</th>\n",
       "      <td>16037</td>\n",
       "      <td>90863</td>\n",
       "      <td>909023</td>\n",
       "    </tr>\n",
       "    <tr>\n",
       "      <th>2002-01-01</th>\n",
       "      <td>16229</td>\n",
       "      <td>95235</td>\n",
       "      <td>891407</td>\n",
       "    </tr>\n",
       "    <tr>\n",
       "      <th>2003-01-01</th>\n",
       "      <td>16528</td>\n",
       "      <td>93883</td>\n",
       "      <td>859030</td>\n",
       "    </tr>\n",
       "    <tr>\n",
       "      <th>2004-01-01</th>\n",
       "      <td>16148</td>\n",
       "      <td>95089</td>\n",
       "      <td>847381</td>\n",
       "    </tr>\n",
       "    <tr>\n",
       "      <th>2005-01-01</th>\n",
       "      <td>16740</td>\n",
       "      <td>94347</td>\n",
       "      <td>862220</td>\n",
       "    </tr>\n",
       "    <tr>\n",
       "      <th>2006-01-01</th>\n",
       "      <td>17309</td>\n",
       "      <td>94472</td>\n",
       "      <td>874096</td>\n",
       "    </tr>\n",
       "    <tr>\n",
       "      <th>2007-01-01</th>\n",
       "      <td>17128</td>\n",
       "      <td>92160</td>\n",
       "      <td>866358</td>\n",
       "    </tr>\n",
       "    <tr>\n",
       "      <th>2008-01-01</th>\n",
       "      <td>16465</td>\n",
       "      <td>90750</td>\n",
       "      <td>843683</td>\n",
       "    </tr>\n",
       "    <tr>\n",
       "      <th>2009-01-01</th>\n",
       "      <td>15399</td>\n",
       "      <td>89241</td>\n",
       "      <td>812514</td>\n",
       "    </tr>\n",
       "    <tr>\n",
       "      <th>2010-01-01</th>\n",
       "      <td>14722</td>\n",
       "      <td>85593</td>\n",
       "      <td>781844</td>\n",
       "    </tr>\n",
       "    <tr>\n",
       "      <th>2011-01-01</th>\n",
       "      <td>14661</td>\n",
       "      <td>84175</td>\n",
       "      <td>752423</td>\n",
       "    </tr>\n",
       "    <tr>\n",
       "      <th>2012-01-01</th>\n",
       "      <td>14827</td>\n",
       "      <td>84376</td>\n",
       "      <td>760739</td>\n",
       "    </tr>\n",
       "  </tbody>\n",
       "</table>\n",
       "</div>"
      ],
      "text/plain": [
       "            Murder and nonnegligent Manslaughter  Forcible rape  \\\n",
       "Year                                                              \n",
       "2000-01-01                                 15586          90178   \n",
       "2001-01-01                                 16037          90863   \n",
       "2002-01-01                                 16229          95235   \n",
       "2003-01-01                                 16528          93883   \n",
       "2004-01-01                                 16148          95089   \n",
       "2005-01-01                                 16740          94347   \n",
       "2006-01-01                                 17309          94472   \n",
       "2007-01-01                                 17128          92160   \n",
       "2008-01-01                                 16465          90750   \n",
       "2009-01-01                                 15399          89241   \n",
       "2010-01-01                                 14722          85593   \n",
       "2011-01-01                                 14661          84175   \n",
       "2012-01-01                                 14827          84376   \n",
       "\n",
       "            Aggravated assault  \n",
       "Year                            \n",
       "2000-01-01              911706  \n",
       "2001-01-01              909023  \n",
       "2002-01-01              891407  \n",
       "2003-01-01              859030  \n",
       "2004-01-01              847381  \n",
       "2005-01-01              862220  \n",
       "2006-01-01              874096  \n",
       "2007-01-01              866358  \n",
       "2008-01-01              843683  \n",
       "2009-01-01              812514  \n",
       "2010-01-01              781844  \n",
       "2011-01-01              752423  \n",
       "2012-01-01              760739  "
      ]
     },
     "execution_count": 20,
     "metadata": {},
     "output_type": "execute_result"
    }
   ],
   "source": [
    "us_violentcrime['Violent crime total'] -= us_violentcrime['Robbery']\n",
    "del us_violentcrime['Robbery']\n",
    "del us_violentcrime['Population']\n",
    "del us_violentcrime['Violent crime total']\n",
    "us_violentcrime = us_violentcrime.loc['2000-01-01':]\n",
    "us_violentcrime"
   ]
  },
  {
   "cell_type": "code",
   "execution_count": 21,
   "metadata": {
    "collapsed": false
   },
   "outputs": [
    {
     "data": {
      "text/html": [
       "<div>\n",
       "<table border=\"1\" class=\"dataframe\">\n",
       "  <thead>\n",
       "    <tr style=\"text-align: right;\">\n",
       "      <th></th>\n",
       "      <th>US</th>\n",
       "      <th>India</th>\n",
       "      <th>France</th>\n",
       "      <th>Netherlands</th>\n",
       "    </tr>\n",
       "  </thead>\n",
       "  <tbody>\n",
       "    <tr>\n",
       "      <th>2000-01-01</th>\n",
       "      <td>90178</td>\n",
       "      <td>NaN</td>\n",
       "      <td>NaN</td>\n",
       "      <td>NaN</td>\n",
       "    </tr>\n",
       "    <tr>\n",
       "      <th>2001-01-01</th>\n",
       "      <td>90863</td>\n",
       "      <td>20446</td>\n",
       "      <td>NaN</td>\n",
       "      <td>NaN</td>\n",
       "    </tr>\n",
       "    <tr>\n",
       "      <th>2002-01-01</th>\n",
       "      <td>95235</td>\n",
       "      <td>21236</td>\n",
       "      <td>NaN</td>\n",
       "      <td>NaN</td>\n",
       "    </tr>\n",
       "    <tr>\n",
       "      <th>2003-01-01</th>\n",
       "      <td>93883</td>\n",
       "      <td>19994</td>\n",
       "      <td>10408</td>\n",
       "      <td>1700</td>\n",
       "    </tr>\n",
       "    <tr>\n",
       "      <th>2004-01-01</th>\n",
       "      <td>95089</td>\n",
       "      <td>22489</td>\n",
       "      <td>10506</td>\n",
       "      <td>1800</td>\n",
       "    </tr>\n",
       "    <tr>\n",
       "      <th>2005-01-01</th>\n",
       "      <td>94347</td>\n",
       "      <td>23212</td>\n",
       "      <td>9993</td>\n",
       "      <td>2505</td>\n",
       "    </tr>\n",
       "    <tr>\n",
       "      <th>2006-01-01</th>\n",
       "      <td>94472</td>\n",
       "      <td>23792</td>\n",
       "      <td>9784</td>\n",
       "      <td>2405</td>\n",
       "    </tr>\n",
       "    <tr>\n",
       "      <th>2007-01-01</th>\n",
       "      <td>92160</td>\n",
       "      <td>25363</td>\n",
       "      <td>10132</td>\n",
       "      <td>2135</td>\n",
       "    </tr>\n",
       "    <tr>\n",
       "      <th>2008-01-01</th>\n",
       "      <td>90750</td>\n",
       "      <td>25036</td>\n",
       "      <td>10277</td>\n",
       "      <td>1945</td>\n",
       "    </tr>\n",
       "    <tr>\n",
       "      <th>2009-01-01</th>\n",
       "      <td>89241</td>\n",
       "      <td>25845</td>\n",
       "      <td>9842</td>\n",
       "      <td>1920</td>\n",
       "    </tr>\n",
       "    <tr>\n",
       "      <th>2010-01-01</th>\n",
       "      <td>85593</td>\n",
       "      <td>27074</td>\n",
       "      <td>10108</td>\n",
       "      <td>1660</td>\n",
       "    </tr>\n",
       "    <tr>\n",
       "      <th>2011-01-01</th>\n",
       "      <td>84175</td>\n",
       "      <td>28878</td>\n",
       "      <td>10406</td>\n",
       "      <td>1605</td>\n",
       "    </tr>\n",
       "    <tr>\n",
       "      <th>2012-01-01</th>\n",
       "      <td>84376</td>\n",
       "      <td>31117</td>\n",
       "      <td>10885</td>\n",
       "      <td>1490</td>\n",
       "    </tr>\n",
       "    <tr>\n",
       "      <th>2013-01-01</th>\n",
       "      <td>NaN</td>\n",
       "      <td>NaN</td>\n",
       "      <td>11171</td>\n",
       "      <td>1320</td>\n",
       "    </tr>\n",
       "  </tbody>\n",
       "</table>\n",
       "</div>"
      ],
      "text/plain": [
       "               US  India  France  Netherlands\n",
       "2000-01-01  90178    NaN     NaN          NaN\n",
       "2001-01-01  90863  20446     NaN          NaN\n",
       "2002-01-01  95235  21236     NaN          NaN\n",
       "2003-01-01  93883  19994   10408         1700\n",
       "2004-01-01  95089  22489   10506         1800\n",
       "2005-01-01  94347  23212    9993         2505\n",
       "2006-01-01  94472  23792    9784         2405\n",
       "2007-01-01  92160  25363   10132         2135\n",
       "2008-01-01  90750  25036   10277         1945\n",
       "2009-01-01  89241  25845    9842         1920\n",
       "2010-01-01  85593  27074   10108         1660\n",
       "2011-01-01  84175  28878   10406         1605\n",
       "2012-01-01  84376  31117   10885         1490\n",
       "2013-01-01    NaN    NaN   11171         1320"
      ]
     },
     "execution_count": 21,
     "metadata": {},
     "output_type": "execute_result"
    }
   ],
   "source": [
    "rape_stats = pandas.concat([us_violentcrime['Forcible rape'], india_rape, france_rape, neth_rape], axis=1)\n",
    "rape_stats.columns = ['US', 'India', 'France', 'Netherlands']\n",
    "rape_stats"
   ]
  },
  {
   "cell_type": "code",
   "execution_count": 22,
   "metadata": {
    "collapsed": false
   },
   "outputs": [
    {
     "data": {
      "text/html": [
       "<div>\n",
       "<table border=\"1\" class=\"dataframe\">\n",
       "  <thead>\n",
       "    <tr style=\"text-align: right;\">\n",
       "      <th></th>\n",
       "      <th>US</th>\n",
       "      <th>India</th>\n",
       "      <th>France</th>\n",
       "      <th>Netherlands</th>\n",
       "    </tr>\n",
       "  </thead>\n",
       "  <tbody>\n",
       "    <tr>\n",
       "      <th>2000-01-01</th>\n",
       "      <td>15586</td>\n",
       "      <td>NaN</td>\n",
       "      <td>1051</td>\n",
       "      <td>180</td>\n",
       "    </tr>\n",
       "    <tr>\n",
       "      <th>2001-01-01</th>\n",
       "      <td>16037</td>\n",
       "      <td>38636</td>\n",
       "      <td>1047</td>\n",
       "      <td>202</td>\n",
       "    </tr>\n",
       "    <tr>\n",
       "      <th>2002-01-01</th>\n",
       "      <td>16229</td>\n",
       "      <td>38033</td>\n",
       "      <td>1119</td>\n",
       "      <td>195</td>\n",
       "    </tr>\n",
       "    <tr>\n",
       "      <th>2003-01-01</th>\n",
       "      <td>16528</td>\n",
       "      <td>33821</td>\n",
       "      <td>987</td>\n",
       "      <td>202</td>\n",
       "    </tr>\n",
       "    <tr>\n",
       "      <th>2004-01-01</th>\n",
       "      <td>16148</td>\n",
       "      <td>34915</td>\n",
       "      <td>990</td>\n",
       "      <td>191</td>\n",
       "    </tr>\n",
       "    <tr>\n",
       "      <th>2005-01-01</th>\n",
       "      <td>16740</td>\n",
       "      <td>34419</td>\n",
       "      <td>976</td>\n",
       "      <td>174</td>\n",
       "    </tr>\n",
       "    <tr>\n",
       "      <th>2006-01-01</th>\n",
       "      <td>17309</td>\n",
       "      <td>33808</td>\n",
       "      <td>879</td>\n",
       "      <td>128</td>\n",
       "    </tr>\n",
       "    <tr>\n",
       "      <th>2007-01-01</th>\n",
       "      <td>17128</td>\n",
       "      <td>33428</td>\n",
       "      <td>993</td>\n",
       "      <td>143</td>\n",
       "    </tr>\n",
       "    <tr>\n",
       "      <th>2008-01-01</th>\n",
       "      <td>16465</td>\n",
       "      <td>33727</td>\n",
       "      <td>1021</td>\n",
       "      <td>150</td>\n",
       "    </tr>\n",
       "    <tr>\n",
       "      <th>2009-01-01</th>\n",
       "      <td>15399</td>\n",
       "      <td>33159</td>\n",
       "      <td>819</td>\n",
       "      <td>154</td>\n",
       "    </tr>\n",
       "    <tr>\n",
       "      <th>2010-01-01</th>\n",
       "      <td>14722</td>\n",
       "      <td>33908</td>\n",
       "      <td>796</td>\n",
       "      <td>144</td>\n",
       "    </tr>\n",
       "    <tr>\n",
       "      <th>2011-01-01</th>\n",
       "      <td>14661</td>\n",
       "      <td>35123</td>\n",
       "      <td>856</td>\n",
       "      <td>143</td>\n",
       "    </tr>\n",
       "    <tr>\n",
       "      <th>2012-01-01</th>\n",
       "      <td>14827</td>\n",
       "      <td>35122</td>\n",
       "      <td>784</td>\n",
       "      <td>145</td>\n",
       "    </tr>\n",
       "    <tr>\n",
       "      <th>2013-01-01</th>\n",
       "      <td>NaN</td>\n",
       "      <td>NaN</td>\n",
       "      <td>777</td>\n",
       "      <td>125</td>\n",
       "    </tr>\n",
       "  </tbody>\n",
       "</table>\n",
       "</div>"
      ],
      "text/plain": [
       "               US  India  France  Netherlands\n",
       "2000-01-01  15586    NaN    1051          180\n",
       "2001-01-01  16037  38636    1047          202\n",
       "2002-01-01  16229  38033    1119          195\n",
       "2003-01-01  16528  33821     987          202\n",
       "2004-01-01  16148  34915     990          191\n",
       "2005-01-01  16740  34419     976          174\n",
       "2006-01-01  17309  33808     879          128\n",
       "2007-01-01  17128  33428     993          143\n",
       "2008-01-01  16465  33727    1021          150\n",
       "2009-01-01  15399  33159     819          154\n",
       "2010-01-01  14722  33908     796          144\n",
       "2011-01-01  14661  35123     856          143\n",
       "2012-01-01  14827  35122     784          145\n",
       "2013-01-01    NaN    NaN     777          125"
      ]
     },
     "execution_count": 22,
     "metadata": {},
     "output_type": "execute_result"
    }
   ],
   "source": [
    "homicide_stats = pandas.concat([us_violentcrime['Murder and nonnegligent Manslaughter'], india_murder, france_homicide, neth_homicide], axis=1)\n",
    "homicide_stats.columns = ['US', 'India', 'France', 'Netherlands']\n",
    "homicide_stats"
   ]
  },
  {
   "cell_type": "code",
   "execution_count": 23,
   "metadata": {
    "collapsed": false
   },
   "outputs": [
    {
     "data": {
      "text/html": [
       "<div>\n",
       "<table border=\"1\" class=\"dataframe\">\n",
       "  <thead>\n",
       "    <tr style=\"text-align: right;\">\n",
       "      <th></th>\n",
       "      <th>US</th>\n",
       "      <th>France</th>\n",
       "      <th>Netherlands</th>\n",
       "    </tr>\n",
       "  </thead>\n",
       "  <tbody>\n",
       "    <tr>\n",
       "      <th>2000-01-01</th>\n",
       "      <td>911706</td>\n",
       "      <td>NaN</td>\n",
       "      <td>NaN</td>\n",
       "    </tr>\n",
       "    <tr>\n",
       "      <th>2001-01-01</th>\n",
       "      <td>909023</td>\n",
       "      <td>NaN</td>\n",
       "      <td>NaN</td>\n",
       "    </tr>\n",
       "    <tr>\n",
       "      <th>2002-01-01</th>\n",
       "      <td>891407</td>\n",
       "      <td>NaN</td>\n",
       "      <td>NaN</td>\n",
       "    </tr>\n",
       "    <tr>\n",
       "      <th>2003-01-01</th>\n",
       "      <td>859030</td>\n",
       "      <td>135003</td>\n",
       "      <td>53500</td>\n",
       "    </tr>\n",
       "    <tr>\n",
       "      <th>2004-01-01</th>\n",
       "      <td>847381</td>\n",
       "      <td>137679</td>\n",
       "      <td>55300</td>\n",
       "    </tr>\n",
       "    <tr>\n",
       "      <th>2005-01-01</th>\n",
       "      <td>862220</td>\n",
       "      <td>148651</td>\n",
       "      <td>67060</td>\n",
       "    </tr>\n",
       "    <tr>\n",
       "      <th>2006-01-01</th>\n",
       "      <td>874096</td>\n",
       "      <td>164359</td>\n",
       "      <td>69185</td>\n",
       "    </tr>\n",
       "    <tr>\n",
       "      <th>2007-01-01</th>\n",
       "      <td>866358</td>\n",
       "      <td>175886</td>\n",
       "      <td>71570</td>\n",
       "    </tr>\n",
       "    <tr>\n",
       "      <th>2008-01-01</th>\n",
       "      <td>843683</td>\n",
       "      <td>187937</td>\n",
       "      <td>69005</td>\n",
       "    </tr>\n",
       "    <tr>\n",
       "      <th>2009-01-01</th>\n",
       "      <td>812514</td>\n",
       "      <td>193405</td>\n",
       "      <td>65690</td>\n",
       "    </tr>\n",
       "    <tr>\n",
       "      <th>2010-01-01</th>\n",
       "      <td>781844</td>\n",
       "      <td>192906</td>\n",
       "      <td>60280</td>\n",
       "    </tr>\n",
       "    <tr>\n",
       "      <th>2011-01-01</th>\n",
       "      <td>752423</td>\n",
       "      <td>192263</td>\n",
       "      <td>59425</td>\n",
       "    </tr>\n",
       "    <tr>\n",
       "      <th>2012-01-01</th>\n",
       "      <td>760739</td>\n",
       "      <td>193081</td>\n",
       "      <td>56650</td>\n",
       "    </tr>\n",
       "    <tr>\n",
       "      <th>2013-01-01</th>\n",
       "      <td>NaN</td>\n",
       "      <td>192643</td>\n",
       "      <td>52135</td>\n",
       "    </tr>\n",
       "  </tbody>\n",
       "</table>\n",
       "</div>"
      ],
      "text/plain": [
       "                US  France  Netherlands\n",
       "2000-01-01  911706     NaN          NaN\n",
       "2001-01-01  909023     NaN          NaN\n",
       "2002-01-01  891407     NaN          NaN\n",
       "2003-01-01  859030  135003        53500\n",
       "2004-01-01  847381  137679        55300\n",
       "2005-01-01  862220  148651        67060\n",
       "2006-01-01  874096  164359        69185\n",
       "2007-01-01  866358  175886        71570\n",
       "2008-01-01  843683  187937        69005\n",
       "2009-01-01  812514  193405        65690\n",
       "2010-01-01  781844  192906        60280\n",
       "2011-01-01  752423  192263        59425\n",
       "2012-01-01  760739  193081        56650\n",
       "2013-01-01     NaN  192643        52135"
      ]
     },
     "execution_count": 23,
     "metadata": {},
     "output_type": "execute_result"
    }
   ],
   "source": [
    "assault_stats = pandas.concat([us_violentcrime['Aggravated assault'], france_assault, neth_assault], axis=1)\n",
    "assault_stats.columns = ['US', 'France', 'Netherlands']\n",
    "assault_stats"
   ]
  },
  {
   "cell_type": "code",
   "execution_count": 24,
   "metadata": {
    "collapsed": false
   },
   "outputs": [
    {
     "data": {
      "text/html": [
       "<div>\n",
       "<table border=\"1\" class=\"dataframe\">\n",
       "  <thead>\n",
       "    <tr style=\"text-align: right;\">\n",
       "      <th></th>\n",
       "      <th>India</th>\n",
       "      <th>France</th>\n",
       "      <th>Netherlands</th>\n",
       "    </tr>\n",
       "  </thead>\n",
       "  <tbody>\n",
       "    <tr>\n",
       "      <th>2001-01-01</th>\n",
       "      <td>22996</td>\n",
       "      <td>NaN</td>\n",
       "      <td>NaN</td>\n",
       "    </tr>\n",
       "    <tr>\n",
       "      <th>2002-01-01</th>\n",
       "      <td>22173</td>\n",
       "      <td>NaN</td>\n",
       "      <td>NaN</td>\n",
       "    </tr>\n",
       "    <tr>\n",
       "      <th>2003-01-01</th>\n",
       "      <td>20021</td>\n",
       "      <td>2031</td>\n",
       "      <td>NaN</td>\n",
       "    </tr>\n",
       "    <tr>\n",
       "      <th>2004-01-01</th>\n",
       "      <td>23309</td>\n",
       "      <td>2143</td>\n",
       "      <td>NaN</td>\n",
       "    </tr>\n",
       "    <tr>\n",
       "      <th>2005-01-01</th>\n",
       "      <td>23133</td>\n",
       "      <td>2012</td>\n",
       "      <td>910</td>\n",
       "    </tr>\n",
       "    <tr>\n",
       "      <th>2006-01-01</th>\n",
       "      <td>24292</td>\n",
       "      <td>2288</td>\n",
       "      <td>850</td>\n",
       "    </tr>\n",
       "    <tr>\n",
       "      <th>2007-01-01</th>\n",
       "      <td>28030</td>\n",
       "      <td>2109</td>\n",
       "      <td>780</td>\n",
       "    </tr>\n",
       "    <tr>\n",
       "      <th>2008-01-01</th>\n",
       "      <td>30595</td>\n",
       "      <td>2074</td>\n",
       "      <td>760</td>\n",
       "    </tr>\n",
       "    <tr>\n",
       "      <th>2009-01-01</th>\n",
       "      <td>34304</td>\n",
       "      <td>2085</td>\n",
       "      <td>625</td>\n",
       "    </tr>\n",
       "    <tr>\n",
       "      <th>2010-01-01</th>\n",
       "      <td>39148</td>\n",
       "      <td>2092</td>\n",
       "      <td>645</td>\n",
       "    </tr>\n",
       "    <tr>\n",
       "      <th>2011-01-01</th>\n",
       "      <td>45239</td>\n",
       "      <td>2234</td>\n",
       "      <td>560</td>\n",
       "    </tr>\n",
       "    <tr>\n",
       "      <th>2012-01-01</th>\n",
       "      <td>48219</td>\n",
       "      <td>2117</td>\n",
       "      <td>580</td>\n",
       "    </tr>\n",
       "    <tr>\n",
       "      <th>2013-01-01</th>\n",
       "      <td>NaN</td>\n",
       "      <td>2266</td>\n",
       "      <td>520</td>\n",
       "    </tr>\n",
       "  </tbody>\n",
       "</table>\n",
       "</div>"
      ],
      "text/plain": [
       "            India  France  Netherlands\n",
       "2001-01-01  22996     NaN          NaN\n",
       "2002-01-01  22173     NaN          NaN\n",
       "2003-01-01  20021    2031          NaN\n",
       "2004-01-01  23309    2143          NaN\n",
       "2005-01-01  23133    2012          910\n",
       "2006-01-01  24292    2288          850\n",
       "2007-01-01  28030    2109          780\n",
       "2008-01-01  30595    2074          760\n",
       "2009-01-01  34304    2085          625\n",
       "2010-01-01  39148    2092          645\n",
       "2011-01-01  45239    2234          560\n",
       "2012-01-01  48219    2117          580\n",
       "2013-01-01    NaN    2266          520"
      ]
     },
     "execution_count": 24,
     "metadata": {},
     "output_type": "execute_result"
    }
   ],
   "source": [
    "kidnapping_stats = pandas.concat([india_kidnap, france_kidnap, neth_kidnap], axis=1)\n",
    "kidnapping_stats.columns = ['India', 'France', 'Netherlands']\n",
    "kidnapping_stats"
   ]
  },
  {
   "cell_type": "markdown",
   "metadata": {},
   "source": [
    "# Visualization and plotting of data"
   ]
  },
  {
   "cell_type": "markdown",
   "metadata": {},
   "source": [
    "Yay for pretty plots!"
   ]
  },
  {
   "cell_type": "code",
   "execution_count": 25,
   "metadata": {
    "collapsed": false,
    "scrolled": true
   },
   "outputs": [
    {
     "data": {
      "text/plain": [
       "<matplotlib.axes._subplots.AxesSubplot at 0x7fa05873e208>"
      ]
     },
     "execution_count": 25,
     "metadata": {},
     "output_type": "execute_result"
    },
    {
     "data": {
      "image/png": "[encoded data removed]",
      "text/plain": [
       "<matplotlib.figure.Figure at 0x7fa05877b080>"
      ]
     },
     "metadata": {},
     "output_type": "display_data"
    }
   ],
   "source": [
    "india_violentcrime.plot(kind='line', title='Violent Crime in India')"
   ]
  },
  {
   "cell_type": "markdown",
   "metadata": {},
   "source": [
    "This was pretty much expected. It's interesting how the number of murders show a downward trend, but the number of kidnappings and rapes show a dramatic rise."
   ]
  },
  {
   "cell_type": "code",
   "execution_count": 26,
   "metadata": {
    "collapsed": false
   },
   "outputs": [
    {
     "data": {
      "text/plain": [
       "<matplotlib.axes._subplots.AxesSubplot at 0x7fa0586cca20>"
      ]
     },
     "execution_count": 26,
     "metadata": {},
     "output_type": "execute_result"
    },
    {
     "data": {
      "image/png": "[encoded data removed]",
      "text/plain": [
       "<matplotlib.figure.Figure at 0x7fa0586d5710>"
      ]
     },
     "metadata": {},
     "output_type": "display_data"
    }
   ],
   "source": [
    "us_violentcrime.plot(kind='line', title='Violent Crime in the US')"
   ]
  },
  {
   "cell_type": "markdown",
   "metadata": {},
   "source": [
    "Looking at the number of aggravated assaults, the Americans seem to be an angry race."
   ]
  },
  {
   "cell_type": "code",
   "execution_count": 27,
   "metadata": {
    "collapsed": false
   },
   "outputs": [
    {
     "data": {
      "text/plain": [
       "<matplotlib.axes._subplots.AxesSubplot at 0x7fa0586266d8>"
      ]
     },
     "execution_count": 27,
     "metadata": {},
     "output_type": "execute_result"
    },
    {
     "data": {
      "image/png": "[encoded data removed]",
      "text/plain": [
       "<matplotlib.figure.Figure at 0x7fa05866fe48>"
      ]
     },
     "metadata": {},
     "output_type": "display_data"
    }
   ],
   "source": [
    "france_violentcrime.plot(kind='line', title='Violent Crime in France')"
   ]
  },
  {
   "cell_type": "code",
   "execution_count": 28,
   "metadata": {
    "collapsed": false
   },
   "outputs": [
    {
     "data": {
      "text/plain": [
       "<matplotlib.axes._subplots.AxesSubplot at 0x7fa058628b00>"
      ]
     },
     "execution_count": 28,
     "metadata": {},
     "output_type": "execute_result"
    },
    {
     "data": {
      "image/png": "[encoded data removed]",
      "text/plain": [
       "<matplotlib.figure.Figure at 0x7fa058580748>"
      ]
     },
     "metadata": {},
     "output_type": "display_data"
    }
   ],
   "source": [
    "neth_violentcrime.plot(kind='line', title='Violent Crime in the Netherlands')"
   ]
  },
  {
   "cell_type": "code",
   "execution_count": 29,
   "metadata": {
    "collapsed": false
   },
   "outputs": [
    {
     "data": {
      "text/plain": [
       "<matplotlib.axes._subplots.AxesSubplot at 0x7fa05856f128>"
      ]
     },
     "execution_count": 29,
     "metadata": {},
     "output_type": "execute_result"
    },
    {
     "data": {
      "image/png": "[encoded data removed]",
      "text/plain": [
       "<matplotlib.figure.Figure at 0x7fa0584c0eb8>"
      ]
     },
     "metadata": {},
     "output_type": "display_data"
    }
   ],
   "source": [
    "rape_stats.plot(kind='line', title='Rape Statistics in India, US, France, and the Netherlands')"
   ]
  },
  {
   "cell_type": "markdown",
   "metadata": {},
   "source": [
    "Now this is interesting. Looking at the amount of attention garnered by India and its rape problem, one wouldn't have expected the United States to actually have a *considerably* higher number of rape cases reported. 'Rape cases reported' being the operative phrase of course. It's also interesting to see the steady decline in rapes in the US, and its rise in India. France and the Netherlands seem to be quite benign in this matter, considering how prostitution is legal in the Netherlands."
   ]
  },
  {
   "cell_type": "code",
   "execution_count": 30,
   "metadata": {
    "collapsed": false
   },
   "outputs": [
    {
     "data": {
      "text/plain": [
       "<matplotlib.axes._subplots.AxesSubplot at 0x7fa0585b8e48>"
      ]
     },
     "execution_count": 30,
     "metadata": {},
     "output_type": "execute_result"
    },
    {
     "data": {
      "image/png": "[encoded data removed]",
      "text/plain": [
       "<matplotlib.figure.Figure at 0x7fa05849dc50>"
      ]
     },
     "metadata": {},
     "output_type": "display_data"
    }
   ],
   "source": [
    "assault_stats.plot(kind='line', title='Assault Statistics in the US, France, and the Netherlands')"
   ]
  },
  {
   "cell_type": "markdown",
   "metadata": {},
   "source": [
    "Again, Americans, get a grip on yourselves. On a side note, it's kind of unfortunate how I couldn't find any data on assault in India, although I suspect it would give the Americans a run for their money."
   ]
  },
  {
   "cell_type": "code",
   "execution_count": 31,
   "metadata": {
    "collapsed": false
   },
   "outputs": [
    {
     "data": {
      "text/plain": [
       "<matplotlib.axes._subplots.AxesSubplot at 0x7fa0584ed5c0>"
      ]
     },
     "execution_count": 31,
     "metadata": {},
     "output_type": "execute_result"
    },
    {
     "data": {
      "image/png": "[encoded data removed]",
      "text/plain": [
       "<matplotlib.figure.Figure at 0x7fa0584424e0>"
      ]
     },
     "metadata": {},
     "output_type": "display_data"
    }
   ],
   "source": [
    "homicide_stats.plot(kind='line', title='Homicide Statistics in India, US, France, and the Netherlands')"
   ]
  },
  {
   "cell_type": "markdown",
   "metadata": {},
   "source": [
    "Interesting again. Gun violence has attracted quite a bit of attention in the US, but turns out India surpasses the US by a considerable margin in terms of the number of homicides committed."
   ]
  },
  {
   "cell_type": "code",
   "execution_count": 32,
   "metadata": {
    "collapsed": false
   },
   "outputs": [
    {
     "data": {
      "text/plain": [
       "<matplotlib.axes._subplots.AxesSubplot at 0x7fa05834f0b8>"
      ]
     },
     "execution_count": 32,
     "metadata": {},
     "output_type": "execute_result"
    },
    {
     "data": {
      "image/png": "[encoded data removed]",
      "text/plain": [
       "<matplotlib.figure.Figure at 0x7fa05830e4e0>"
      ]
     },
     "metadata": {},
     "output_type": "display_data"
    }
   ],
   "source": [
    "kidnapping_stats.plot(kind='line', title='Kidnapping and Abduction Statistics in India, France, and the Netherlands')"
   ]
  }
 ],
 "metadata": {
  "kernelspec": {
   "display_name": "Python 3",
   "language": "python",
   "name": "python3"
  },
  "language_info": {
   "codemirror_mode": {
    "name": "ipython",
    "version": 3
   },
   "file_extension": ".py",
   "mimetype": "text/x-python",
   "name": "python",
   "nbconvert_exporter": "python",
   "pygments_lexer": "ipython3",
   "version": "3.5.0"
  }
 },
 "nbformat": 4,
 "nbformat_minor": 0
}
